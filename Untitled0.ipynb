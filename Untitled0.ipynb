{
  "nbformat": 4,
  "nbformat_minor": 0,
  "metadata": {
    "colab": {
      "name": "Untitled0.ipynb",
      "provenance": [],
      "authorship_tag": "ABX9TyOOaFACgfqschqHkJByn5kA",
      "include_colab_link": true
    },
    "kernelspec": {
      "name": "python3",
      "display_name": "Python 3"
    }
  },
  "cells": [
    {
      "cell_type": "markdown",
      "metadata": {
        "id": "view-in-github",
        "colab_type": "text"
      },
      "source": [
        "<a href=\"https://colab.research.google.com/github/mauromongiardo/Antenna_wxmaxima/blob/master/Untitled0.ipynb\" target=\"_parent\"><img src=\"https://colab.research.google.com/assets/colab-badge.svg\" alt=\"Open In Colab\"/></a>"
      ]
    },
    {
      "cell_type": "code",
      "metadata": {
        "colab": {
          "base_uri": "https://localhost:8080/"
        },
        "id": "rxzdPH49QtRQ",
        "outputId": "06bafc6b-2d3f-4a81-f9f0-6c772fba2f0f"
      },
      "source": [
        "print(\"io mi chiamo Mauro\")\n"
      ],
      "execution_count": 5,
      "outputs": [
        {
          "output_type": "stream",
          "text": [
            "io mi chiamo Mauro\n"
          ],
          "name": "stdout"
        }
      ]
    },
    {
      "cell_type": "markdown",
      "metadata": {
        "id": "yo1tdikZRIBg"
      },
      "source": [
        "**e *provo* google colab** with $x^2$ latex\n",
        "$$ \\int_0^a \\sin(\\pi x /a) $$\n",
        "\n",
        "\n",
        "\n",
        "1.   boh\n",
        "2.   cammino\n",
        "3. camino\n",
        "\n"
      ]
    }
  ]
}