{
  "nbformat": 4,
  "nbformat_minor": 0,
  "metadata": {
    "colab": {
      "name": "PhysicalConstants-01.ipynb",
      "provenance": [],
      "collapsed_sections": [],
      "authorship_tag": "ABX9TyOhFat7AgeJ/rpF3FpHxcz+",
      "include_colab_link": true
    },
    "kernelspec": {
      "name": "python3",
      "display_name": "Python 3"
    }
  },
  "cells": [
    {
      "cell_type": "markdown",
      "metadata": {
        "id": "view-in-github",
        "colab_type": "text"
      },
      "source": [
        "<a href=\"https://colab.research.google.com/github/mauromongiardo/Antenna_wxmaxima/blob/master/PhysicalConstants_01.ipynb\" target=\"_parent\"><img src=\"https://colab.research.google.com/assets/colab-badge.svg\" alt=\"Open In Colab\"/></a>"
      ]
    },
    {
      "cell_type": "markdown",
      "metadata": {
        "id": "-gIsMwFD8w-J"
      },
      "source": [
        "# Physical constants\n",
        "In electromagnetism we are mainly interested in the speed of light, magnetic permeability and dielectric permittivity"
      ]
    },
    {
      "cell_type": "code",
      "metadata": {
        "colab": {
          "base_uri": "https://localhost:8080/"
        },
        "id": "cAgZJhQd8mdt",
        "outputId": "eb6c9714-07a6-4bd6-b7b3-6652eb03aa36"
      },
      "source": [
        "import scipy.constants \n",
        "import math\n",
        "\n",
        "print(\"SciPy thinks that pi = %.16f\"%scipy.constants.pi) \n",
        "print(\"While math thinks that pi = %.16f\"%math.pi) \n",
        "print(\"SciPy also thinks that the speed of light is c = %.1F\"%scipy.constants.c) "
      ],
      "execution_count": null,
      "outputs": [
        {
          "output_type": "stream",
          "text": [
            "SciPy thinks that pi = 3.1415926535897931\n",
            "While math thinks that pi = 3.1415926535897931\n",
            "SciPy also thinks that the speed of light is c = 299792458.0\n"
          ],
          "name": "stdout"
        }
      ]
    },
    {
      "cell_type": "markdown",
      "metadata": {
        "id": "_KN2KfiyXnqv"
      },
      "source": [
        "Remember that $\\mu_0=4 \\pi 10^{-7}$ by **definition**"
      ]
    },
    {
      "cell_type": "code",
      "metadata": {
        "colab": {
          "base_uri": "https://localhost:8080/",
          "height": 51
        },
        "id": "uvEzZqM0X613",
        "outputId": "e7cbf45c-80b1-454c-be61-ee3d9b7034ae"
      },
      "source": [
        "mu0 = scipy.constants.mu_0\n",
        "display(mu0)\n",
        "mudef = 4*math.pi *10**(-7)\n",
        "print(\"their difference being\",mu0-mudef)"
      ],
      "execution_count": null,
      "outputs": [
        {
          "output_type": "display_data",
          "data": {
            "text/plain": [
              "1.2566370614359173e-06"
            ]
          },
          "metadata": {
            "tags": []
          }
        },
        {
          "output_type": "stream",
          "text": [
            "the difference being 0.0\n"
          ],
          "name": "stdout"
        }
      ]
    },
    {
      "cell_type": "markdown",
      "metadata": {
        "id": "HW8tIncrYsyl"
      },
      "source": [
        "To write $\\mu_0$ in a symbolic manner we try"
      ]
    },
    {
      "cell_type": "code",
      "metadata": {
        "colab": {
          "base_uri": "https://localhost:8080/",
          "height": 38
        },
        "id": "NDZYQhJ6YzYg",
        "outputId": "ddf83f47-8211-458b-bdb2-909cce3b2e78"
      },
      "source": [
        "from sympy import *\n",
        "init_printing()\n",
        "mu0s= 4*pi*10**(-7)\n",
        "display(mu0s)"
      ],
      "execution_count": null,
      "outputs": [
        {
          "output_type": "display_data",
          "data": {
            "image/png": "[encoded data removed]",
            "text/latex": "$$4.0 \\cdot 10^{-7} \\pi$$",
            "text/plain": [
              "4.0e-7⋅π"
            ]
          },
          "metadata": {
            "tags": []
          }
        }
      ]
    },
    {
      "cell_type": "markdown",
      "metadata": {
        "id": "QukRaS5OAM3a"
      },
      "source": [
        "We need also the dielectric permittivity. We can ask to scipy as"
      ]
    },
    {
      "cell_type": "code",
      "metadata": {
        "colab": {
          "base_uri": "https://localhost:8080/"
        },
        "id": "uPuXTywI9X5G",
        "outputId": "6420467d-4bc8-4d86-9ee7-63cf5caa6c77"
      },
      "source": [
        "c= scipy.constants.c\n",
        "eps0 = scipy.constants.epsilon_0\n",
        "eps0"
      ],
      "execution_count": null,
      "outputs": [
        {
          "output_type": "execute_result",
          "data": {
            "text/plain": [
              "8.854187817620389e-12"
            ]
          },
          "metadata": {
            "tags": []
          },
          "execution_count": 22
        }
      ]
    },
    {
      "cell_type": "markdown",
      "metadata": {
        "id": "R5kO79qoal15"
      },
      "source": [
        "or we can compute it as $\\epsilon = \\frac{1}{\\mu_0 c^2}$"
      ]
    },
    {
      "cell_type": "code",
      "metadata": {
        "colab": {
          "base_uri": "https://localhost:8080/",
          "height": 38
        },
        "id": "krZs0QhOa6pG",
        "outputId": "f61c0b6b-62cd-4322-9a12-8b2dbc9e7a22"
      },
      "source": [
        "epsc = 1/(c**2*mu0)\n",
        "epsc"
      ],
      "execution_count": null,
      "outputs": [
        {
          "output_type": "execute_result",
          "data": {
            "image/png": "[encoded data removed]",
            "text/latex": "$$8.854187817620389e-12$$",
            "text/plain": [
              "8.854187817620389e-12"
            ]
          },
          "metadata": {
            "tags": []
          },
          "execution_count": 35
        }
      ]
    },
    {
      "cell_type": "markdown",
      "metadata": {
        "id": "JgEtaeW-bIwR"
      },
      "source": [
        "which is the same as eps0"
      ]
    },
    {
      "cell_type": "code",
      "metadata": {
        "colab": {
          "base_uri": "https://localhost:8080/",
          "height": 37
        },
        "id": "omXxA_MHbPob",
        "outputId": "1ecee0e4-8cf4-4fff-e6b1-1e524e54124e"
      },
      "source": [
        "eps0-epsc"
      ],
      "execution_count": null,
      "outputs": [
        {
          "output_type": "execute_result",
          "data": {
            "image/png": "[encoded data removed]",
            "text/latex": "$$0.0$$",
            "text/plain": [
              "0.0"
            ]
          },
          "metadata": {
            "tags": []
          },
          "execution_count": 36
        }
      ]
    },
    {
      "cell_type": "code",
      "metadata": {
        "colab": {
          "base_uri": "https://localhost:8080/"
        },
        "id": "cFwh_PMx_VNk",
        "outputId": "4d26a787-c743-4cc4-e45d-0c50d8a4d71b"
      },
      "source": [
        "c-1/math.sqrt(eps0*mu0)"
      ],
      "execution_count": null,
      "outputs": [
        {
          "output_type": "execute_result",
          "data": {
            "text/plain": [
              "0.0"
            ]
          },
          "metadata": {
            "tags": []
          },
          "execution_count": 24
        }
      ]
    },
    {
      "cell_type": "markdown",
      "metadata": {
        "id": "BjO5MctiTSAR"
      },
      "source": [
        "However, the real value of SciPy Constants is its enormous physical constant database. \n",
        "\n",
        "These are of the form: scipy.constants.physical_constants[name] = (value, units, uncertainty).\n",
        "How can you tell what the key is for this function? \n",
        "One way is with the scipy.constants.find() method."
      ]
    },
    {
      "cell_type": "code",
      "metadata": {
        "id": "SYjztTfG_hTX"
      },
      "source": [
        "scipy.constants.find()"
      ],
      "execution_count": null,
      "outputs": []
    },
    {
      "cell_type": "code",
      "metadata": {
        "colab": {
          "base_uri": "https://localhost:8080/"
        },
        "id": "o4T5HbnvTnrZ",
        "outputId": "65a04128-8bf8-43aa-8a4c-fd0dced28e41"
      },
      "source": [
        "scipy.constants.find(\"light\")\n"
      ],
      "execution_count": null,
      "outputs": [
        {
          "output_type": "execute_result",
          "data": {
            "text/plain": [
              "['speed of light in vacuum']"
            ]
          },
          "metadata": {
            "tags": []
          },
          "execution_count": 26
        }
      ]
    },
    {
      "cell_type": "code",
      "metadata": {
        "colab": {
          "base_uri": "https://localhost:8080/"
        },
        "id": "NaMogWIdUfZe",
        "outputId": "7ad53236-3d0b-4d3e-b8b8-1a514e93c227"
      },
      "source": [
        "scipy.constants.physical_constants[\"speed of light in vacuum\"] "
      ],
      "execution_count": null,
      "outputs": [
        {
          "output_type": "execute_result",
          "data": {
            "text/plain": [
              "(299792458.0, 'm s^-1', 0.0)"
            ]
          },
          "metadata": {
            "tags": []
          },
          "execution_count": 27
        }
      ]
    },
    {
      "cell_type": "code",
      "metadata": {
        "colab": {
          "base_uri": "https://localhost:8080/"
        },
        "id": "sqEy1PRoT-3A",
        "outputId": "088443f1-83d8-46fb-f0e7-80c5f45ae6f5"
      },
      "source": [
        "print(\"c = %s\"%str(scipy.constants.physical_constants[\"speed of light in vacuum\"]))"
      ],
      "execution_count": null,
      "outputs": [
        {
          "output_type": "stream",
          "text": [
            "c = (299792458.0, 'm s^-1', 0.0)\n"
          ],
          "name": "stdout"
        }
      ]
    },
    {
      "cell_type": "markdown",
      "metadata": {
        "id": "L5Xme2KoVCuP"
      },
      "source": [
        "The uncertainty in c should not be zero! Right? Wrong. \n",
        "\n",
        "The meter is in fact set by the speed of light in a vacuum. So there is, by definition, no error. \n",
        "\n",
        "However, this has not always been the case. Moreover, any actual determination of the c or the meter has a measurement uncertainty, but SciPy does not acknowledge it."
      ]
    },
    {
      "cell_type": "code",
      "metadata": {
        "id": "pQQi5nzIUu1k"
      },
      "source": [
        " "
      ],
      "execution_count": null,
      "outputs": []
    }
  ]
}