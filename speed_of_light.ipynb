{
  "nbformat": 4,
  "nbformat_minor": 0,
  "metadata": {
    "colab": {
      "name": "Untitled0.ipynb",
      "provenance": [],
      "authorship_tag": "ABX9TyPJJpW4DaHBTaOcQAcjX0jY",
      "include_colab_link": true
    },
    "kernelspec": {
      "name": "python3",
      "display_name": "Python 3"
    }
  },
  "cells": [
    {
      "cell_type": "markdown",
      "metadata": {
        "id": "view-in-github",
        "colab_type": "text"
      },
      "source": [
        "<a href=\"https://colab.research.google.com/github/mauromongiardo/Antenna_wxmaxima/blob/master/speed_of_light.ipynb\" target=\"_parent\"><img src=\"https://colab.research.google.com/assets/colab-badge.svg\" alt=\"Open In Colab\"/></a>"
      ]
    },
    {
      "cell_type": "code",
      "metadata": {
        "colab": {
          "base_uri": "https://localhost:8080/"
        },
        "id": "JsELLVaI5OcW",
        "outputId": "7c4cdb20-0f87-4568-ac18-8a836ea65d44"
      },
      "source": [
        "!date\n",
        "\n",
        "print(\"La velocita della luce e pari a \", c, \"m/s\")\n",
        "c = 2.997 * 10 ** 8"
      ],
      "execution_count": 7,
      "outputs": [
        {
          "output_type": "stream",
          "text": [
            "Sun Jan  3 15:41:55 UTC 2021\n",
            "La velocita della luce e pari a  299700000.0 m/s\n"
          ],
          "name": "stdout"
        }
      ]
    },
    {
      "cell_type": "markdown",
      "metadata": {
        "id": "X08yGCKu5my8"
      },
      "source": [
        "**Basic module for the relation between \n",
        "speed of light c**"
      ]
    }
  ]
}